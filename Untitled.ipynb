{
 "cells": [
  {
   "cell_type": "code",
   "execution_count": 1,
   "id": "222849bd",
   "metadata": {},
   "outputs": [],
   "source": [
    "a = '0100'"
   ]
  },
  {
   "cell_type": "code",
   "execution_count": 2,
   "id": "b5a36f25",
   "metadata": {},
   "outputs": [
    {
     "data": {
      "text/plain": [
       "100"
      ]
     },
     "execution_count": 2,
     "metadata": {},
     "output_type": "execute_result"
    }
   ],
   "source": [
    "int(a)"
   ]
  },
  {
   "cell_type": "code",
   "execution_count": 3,
   "id": "0c5e44b5",
   "metadata": {},
   "outputs": [
    {
     "data": {
      "text/plain": [
       "['0100']"
      ]
     },
     "execution_count": 3,
     "metadata": {},
     "output_type": "execute_result"
    }
   ],
   "source": [
    "a.split()[0].split()"
   ]
  },
  {
   "cell_type": "code",
   "execution_count": 4,
   "id": "3a75cee8",
   "metadata": {},
   "outputs": [
    {
     "data": {
      "text/plain": [
       "4"
      ]
     },
     "execution_count": 4,
     "metadata": {},
     "output_type": "execute_result"
    }
   ],
   "source": [
    "len(a)"
   ]
  },
  {
   "cell_type": "code",
   "execution_count": 5,
   "id": "087775ba",
   "metadata": {},
   "outputs": [],
   "source": [
    "def beginning_zeroes(b):\n",
    "    b_num = int(b)\n",
    "    if not b_num:\n",
    "        return len(b)\n",
    "    return len(b) - len(str(b_num))"
   ]
  },
  {
   "cell_type": "code",
   "execution_count": 6,
   "id": "3ffe1e15",
   "metadata": {},
   "outputs": [
    {
     "data": {
      "text/plain": [
       "2"
      ]
     },
     "execution_count": 6,
     "metadata": {},
     "output_type": "execute_result"
    }
   ],
   "source": [
    "beginning_zeroes('00')"
   ]
  },
  {
   "cell_type": "code",
   "execution_count": 7,
   "id": "df410664",
   "metadata": {},
   "outputs": [],
   "source": [
    "b = 123"
   ]
  },
  {
   "cell_type": "code",
   "execution_count": 8,
   "id": "71d9ebf3",
   "metadata": {},
   "outputs": [
    {
     "data": {
      "text/plain": [
       "['123']"
      ]
     },
     "execution_count": 8,
     "metadata": {},
     "output_type": "execute_result"
    }
   ],
   "source": [
    "str(b).split()"
   ]
  },
  {
   "cell_type": "code",
   "execution_count": 9,
   "id": "c130ec8f",
   "metadata": {},
   "outputs": [],
   "source": [
    "def checkio(number: int) -> int:\n",
    "    result = 1\n",
    "    for n in str(number):\n",
    "        if int(n) != 0:\n",
    "            result *= int(n)\n",
    "    return result"
   ]
  },
  {
   "cell_type": "code",
   "execution_count": 10,
   "id": "afae1a94",
   "metadata": {},
   "outputs": [
    {
     "data": {
      "text/plain": [
       "5"
      ]
     },
     "execution_count": 10,
     "metadata": {},
     "output_type": "execute_result"
    }
   ],
   "source": [
    "checkio(1050)"
   ]
  },
  {
   "cell_type": "code",
   "execution_count": 61,
   "id": "7d2cb289",
   "metadata": {},
   "outputs": [],
   "source": [
    "string = 'A ALLn CAPS'"
   ]
  },
  {
   "cell_type": "code",
   "execution_count": 12,
   "id": "d9dba885",
   "metadata": {},
   "outputs": [
    {
     "data": {
      "text/plain": [
       "False"
      ]
     },
     "execution_count": 12,
     "metadata": {},
     "output_type": "execute_result"
    }
   ],
   "source": [
    "string.split()[1]== string.split()[1].upper()"
   ]
  },
  {
   "cell_type": "code",
   "execution_count": 76,
   "id": "6f6e84bd",
   "metadata": {},
   "outputs": [
    {
     "name": "stdout",
     "output_type": "stream",
     "text": [
      "Up\n",
      "Up\n",
      "Up\n",
      "Up\n",
      "Up\n",
      "Up\n",
      "Up\n",
      "Up\n",
      "Up\n",
      "Up\n"
     ]
    }
   ],
   "source": [
    "for w in string:\n",
    "#     print(w)\n",
    "    done = True\n",
    "    while done:\n",
    "        for l in w:\n",
    "            if l ==l.upper():\n",
    "                print('Up')\n",
    "    \n",
    "        else:\n",
    "            done = False\n",
    "#             \n",
    "#             \n",
    "            "
   ]
  },
  {
   "cell_type": "code",
   "execution_count": 77,
   "id": "4e55a657",
   "metadata": {},
   "outputs": [],
   "source": [
    "def is_all_upper(text: str) -> bool:\n",
    "    return text.upper() == text"
   ]
  },
  {
   "cell_type": "code",
   "execution_count": 80,
   "id": "43f84fe3",
   "metadata": {},
   "outputs": [],
   "source": []
  },
  {
   "cell_type": "code",
   "execution_count": 137,
   "id": "b2fb8c8b",
   "metadata": {},
   "outputs": [],
   "source": [
    "def from_camel_case(name: str) -> str:\n",
    "    n_name = ''\n",
    "    for l in name:\n",
    "        if l.upper() == l:\n",
    "            l = '_' + l.lower()\n",
    "        n_name += l    \n",
    "\n",
    "    return n_name[1:]"
   ]
  },
  {
   "cell_type": "code",
   "execution_count": 138,
   "id": "1823d778",
   "metadata": {},
   "outputs": [],
   "source": [
    "name = 'MyFuncApp'"
   ]
  },
  {
   "cell_type": "code",
   "execution_count": 140,
   "id": "52c51d46",
   "metadata": {},
   "outputs": [
    {
     "name": "stdout",
     "output_type": "stream",
     "text": [
      "my_func_app\n"
     ]
    }
   ],
   "source": [
    "print(from_camel_case(name))"
   ]
  },
  {
   "cell_type": "code",
   "execution_count": 142,
   "id": "6939b887",
   "metadata": {},
   "outputs": [
    {
     "name": "stdout",
     "output_type": "stream",
     "text": [
      "Example:\n",
      "my_python_function_name\n"
     ]
    }
   ],
   "source": [
    "print(\"Example:\")\n",
    "print(from_camel_case(\"MyPythonFunctionName\"))\n",
    "\n",
    "# These \"asserts\" are used for self-checking\n",
    "assert from_camel_case(\"MyFunctionName\") == \"my_function_name\"\n",
    "assert from_camel_case(\"IPhone\") == \"i_phone\""
   ]
  },
  {
   "cell_type": "code",
   "execution_count": null,
   "id": "9dc96edd",
   "metadata": {},
   "outputs": [],
   "source": [
    "def to_camel_case(name: str) -> str:\n",
    "    "
   ]
  },
  {
   "cell_type": "code",
   "execution_count": null,
   "id": "89dcfb36",
   "metadata": {},
   "outputs": [],
   "source": []
  },
  {
   "cell_type": "code",
   "execution_count": 143,
   "id": "0355cd4b",
   "metadata": {},
   "outputs": [],
   "source": [
    "my_list = [1, 3]"
   ]
  },
  {
   "cell_type": "code",
   "execution_count": 144,
   "id": "53e520e1",
   "metadata": {},
   "outputs": [],
   "source": [
    " my_list.insert(-1, 4)"
   ]
  },
  {
   "cell_type": "code",
   "execution_count": 145,
   "id": "7fe95eec",
   "metadata": {},
   "outputs": [
    {
     "data": {
      "text/plain": [
       "[1, 4, 3]"
      ]
     },
     "execution_count": 145,
     "metadata": {},
     "output_type": "execute_result"
    }
   ],
   "source": [
    "my_list"
   ]
  },
  {
   "cell_type": "markdown",
   "id": "91a1fcf8",
   "metadata": {},
   "source": [
    "# Задача с ТГ канала Python Turbo"
   ]
  },
  {
   "cell_type": "code",
   "execution_count": 146,
   "id": "bb69573f",
   "metadata": {},
   "outputs": [],
   "source": [
    "l = [('Русский', 88), ('Физика', 90), ('Алгебра', 97), ('История', 82)]"
   ]
  },
  {
   "cell_type": "code",
   "execution_count": 168,
   "id": "d50bb3ce",
   "metadata": {},
   "outputs": [],
   "source": [
    "b = [2, 3, 1, 5]"
   ]
  },
  {
   "cell_type": "code",
   "execution_count": 184,
   "id": "a6879b07",
   "metadata": {},
   "outputs": [
    {
     "name": "stdout",
     "output_type": "stream",
     "text": [
      "None\n"
     ]
    }
   ],
   "source": [
    "l.sort(key = lambda x: x[1])"
   ]
  },
  {
   "cell_type": "code",
   "execution_count": 185,
   "id": "1d6c2144",
   "metadata": {},
   "outputs": [
    {
     "data": {
      "text/plain": [
       "[('История', 82), ('Русский', 88), ('Физика', 90), ('Алгебра', 97)]"
      ]
     },
     "execution_count": 185,
     "metadata": {},
     "output_type": "execute_result"
    }
   ],
   "source": [
    "l"
   ]
  },
  {
   "cell_type": "code",
   "execution_count": 24,
   "id": "f122233d",
   "metadata": {},
   "outputs": [],
   "source": [
    "password = 'password'\n",
    "cond1 = len(password) > 6\n",
    "cond2 = any(char.isdigit() for char in password)\n",
    "cond3 = any(char.isalpha() for char in password)\n",
    "cond4= len(password) > 9\n",
    "\n",
    "    \n",
    "        "
   ]
  },
  {
   "cell_type": "code",
   "execution_count": 20,
   "id": "dee40675",
   "metadata": {},
   "outputs": [],
   "source": [
    "if cond4:\n",
    "    return all([cond1])\n",
    "else:\n",
    "    return all([cond1, cond2, cond3])"
   ]
  },
  {
   "cell_type": "code",
   "execution_count": 21,
   "id": "3a4213d2",
   "metadata": {},
   "outputs": [
    {
     "data": {
      "text/plain": [
       "True"
      ]
     },
     "execution_count": 21,
     "metadata": {},
     "output_type": "execute_result"
    }
   ],
   "source": [
    "chars"
   ]
  },
  {
   "cell_type": "code",
   "execution_count": 25,
   "id": "79cef201",
   "metadata": {},
   "outputs": [
    {
     "data": {
      "text/plain": [
       "False"
      ]
     },
     "execution_count": 25,
     "metadata": {},
     "output_type": "execute_result"
    }
   ],
   "source": [
    "'password' not in password"
   ]
  },
  {
   "cell_type": "code",
   "execution_count": 26,
   "id": "736e7ec2",
   "metadata": {},
   "outputs": [],
   "source": [
    "text = 'What is <the> time?'"
   ]
  },
  {
   "cell_type": "code",
   "execution_count": 33,
   "id": "6461a482",
   "metadata": {},
   "outputs": [],
   "source": [
    "start = text.find('<')\n",
    "end = text.find('>')\n"
   ]
  },
  {
   "cell_type": "code",
   "execution_count": 34,
   "id": "bc4d9efa",
   "metadata": {},
   "outputs": [
    {
     "data": {
      "text/plain": [
       "12"
      ]
     },
     "execution_count": 34,
     "metadata": {},
     "output_type": "execute_result"
    }
   ],
   "source": [
    "end"
   ]
  },
  {
   "cell_type": "code",
   "execution_count": 36,
   "id": "12d64d2f",
   "metadata": {},
   "outputs": [
    {
     "data": {
      "text/plain": [
       "'the'"
      ]
     },
     "execution_count": 36,
     "metadata": {},
     "output_type": "execute_result"
    }
   ],
   "source": [
    "text[start+1:end]"
   ]
  },
  {
   "cell_type": "code",
   "execution_count": 37,
   "id": "5d5dd753",
   "metadata": {},
   "outputs": [],
   "source": [
    "nr = 15423"
   ]
  },
  {
   "cell_type": "code",
   "execution_count": 48,
   "id": "9f03e1e4",
   "metadata": {},
   "outputs": [
    {
     "data": {
      "text/plain": [
       "'15423'"
      ]
     },
     "execution_count": 48,
     "metadata": {},
     "output_type": "execute_result"
    }
   ],
   "source": [
    "str(nr)"
   ]
  },
  {
   "cell_type": "code",
   "execution_count": 56,
   "id": "f5996b60",
   "metadata": {},
   "outputs": [
    {
     "data": {
      "text/plain": [
       "5"
      ]
     },
     "execution_count": 56,
     "metadata": {},
     "output_type": "execute_result"
    }
   ],
   "source": [
    "max([int(x) for x in str(nr)])"
   ]
  },
  {
   "cell_type": "code",
   "execution_count": 106,
   "id": "d4aae536",
   "metadata": {},
   "outputs": [],
   "source": [
    "text = 'what 12 3is'"
   ]
  },
  {
   "cell_type": "code",
   "execution_count": 78,
   "id": "00ffbb43",
   "metadata": {},
   "outputs": [
    {
     "data": {
      "text/plain": [
       "['what', '12', '3is']"
      ]
     },
     "execution_count": 78,
     "metadata": {},
     "output_type": "execute_result"
    }
   ],
   "source": [
    "nr = txt.split()\n",
    "nr"
   ]
  },
  {
   "cell_type": "code",
   "execution_count": 107,
   "id": "eea660cf",
   "metadata": {},
   "outputs": [
    {
     "ename": "TypeError",
     "evalue": "unsupported operand type(s) for +: 'int' and 'str'",
     "output_type": "error",
     "traceback": [
      "\u001b[1;31m---------------------------------------------------------------------------\u001b[0m",
      "\u001b[1;31mTypeError\u001b[0m                                 Traceback (most recent call last)",
      "Input \u001b[1;32mIn [107]\u001b[0m, in \u001b[0;36m<cell line: 1>\u001b[1;34m()\u001b[0m\n\u001b[1;32m----> 1\u001b[0m \u001b[38;5;28;43msum\u001b[39;49m\u001b[43m(\u001b[49m\u001b[43m[\u001b[49m\u001b[43mel\u001b[49m\u001b[43m \u001b[49m\u001b[38;5;28;43;01mfor\u001b[39;49;00m\u001b[43m \u001b[49m\u001b[43mel\u001b[49m\u001b[43m \u001b[49m\u001b[38;5;129;43;01min\u001b[39;49;00m\u001b[43m \u001b[49m\u001b[43mtext\u001b[49m\u001b[38;5;241;43m.\u001b[39;49m\u001b[43msplit\u001b[49m\u001b[43m(\u001b[49m\u001b[43m)\u001b[49m\u001b[43m \u001b[49m\u001b[38;5;28;43;01mif\u001b[39;49;00m\u001b[43m \u001b[49m\u001b[43mel\u001b[49m\u001b[38;5;241;43m.\u001b[39;49m\u001b[43misdigit\u001b[49m\u001b[43m(\u001b[49m\u001b[43m)\u001b[49m\u001b[43m]\u001b[49m\u001b[43m)\u001b[49m\n",
      "\u001b[1;31mTypeError\u001b[0m: unsupported operand type(s) for +: 'int' and 'str'"
     ]
    }
   ],
   "source": [
    "sum([el for el in text.split() if el.isdigit()])"
   ]
  },
  {
   "cell_type": "code",
   "execution_count": 103,
   "id": "e6b99dff",
   "metadata": {},
   "outputs": [
    {
     "data": {
      "text/plain": [
       "8"
      ]
     },
     "execution_count": 103,
     "metadata": {},
     "output_type": "execute_result"
    }
   ],
   "source": [
    "listing = [1, 3, 4]\n",
    "sum(listing)"
   ]
  },
  {
   "cell_type": "code",
   "execution_count": 113,
   "id": "848311a0",
   "metadata": {},
   "outputs": [
    {
     "data": {
      "text/plain": [
       "[12]"
      ]
     },
     "execution_count": 113,
     "metadata": {},
     "output_type": "execute_result"
    }
   ],
   "source": [
    "[int(el) for el in text.split() if el.isdigit()]"
   ]
  },
  {
   "cell_type": "code",
   "execution_count": 183,
   "id": "bd8dd33d",
   "metadata": {},
   "outputs": [],
   "source": [
    "text1 = 'h1i hi hi 12h b1 b b'"
   ]
  },
  {
   "cell_type": "code",
   "execution_count": 184,
   "id": "3e11aadb",
   "metadata": {},
   "outputs": [],
   "source": [
    "count = 0\n",
    "# while count < 3:\n",
    "for word in text1.split():\n",
    "    if word.isalpha():\n",
    "        count += 1\n",
    "        if count >= 3:\n",
    "            print('True')\n",
    "            break\n",
    "    else:\n",
    "        count = 0\n",
    "#         print('False')\n",
    "#         break\n",
    "        \n",
    "#             if count >= 3:\n",
    "#                 count = 0\n",
    "\n",
    "#         else:\n",
    "#             count = 0\n",
    "#             print('False')\n",
    "#     else:\n",
    "#         print('False')"
   ]
  },
  {
   "cell_type": "code",
   "execution_count": 186,
   "id": "16ad0037",
   "metadata": {},
   "outputs": [
    {
     "data": {
      "text/plain": [
       "7"
      ]
     },
     "execution_count": 186,
     "metadata": {},
     "output_type": "execute_result"
    }
   ],
   "source": [
    "len(text1.split())"
   ]
  },
  {
   "cell_type": "code",
   "execution_count": null,
   "id": "899ce04c",
   "metadata": {},
   "outputs": [],
   "source": [
    "w3 = []\n",
    "for word in text1.split():\n",
    "    if word.isalpha():\n",
    "        w3.append(word)\n",
    "    else:\n",
    "        w3 = []\n",
    "if len(w3) >= 3:\n",
    "    print('True')"
   ]
  }
 ],
 "metadata": {
  "kernelspec": {
   "display_name": "Python 3 (ipykernel)",
   "language": "python",
   "name": "python3"
  },
  "language_info": {
   "codemirror_mode": {
    "name": "ipython",
    "version": 3
   },
   "file_extension": ".py",
   "mimetype": "text/x-python",
   "name": "python",
   "nbconvert_exporter": "python",
   "pygments_lexer": "ipython3",
   "version": "3.9.12"
  }
 },
 "nbformat": 4,
 "nbformat_minor": 5
}
